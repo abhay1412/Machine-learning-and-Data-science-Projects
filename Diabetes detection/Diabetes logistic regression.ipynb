{
 "cells": [
  {
   "cell_type": "markdown",
   "metadata": {},
   "source": [
    "## Import Data"
   ]
  },
  {
   "cell_type": "code",
   "execution_count": 1,
   "metadata": {},
   "outputs": [],
   "source": [
    "import pandas as pd"
   ]
  },
  {
   "cell_type": "code",
   "execution_count": 2,
   "metadata": {},
   "outputs": [
    {
     "data": {
      "text/html": [
       "<div>\n",
       "<style scoped>\n",
       "    .dataframe tbody tr th:only-of-type {\n",
       "        vertical-align: middle;\n",
       "    }\n",
       "\n",
       "    .dataframe tbody tr th {\n",
       "        vertical-align: top;\n",
       "    }\n",
       "\n",
       "    .dataframe thead th {\n",
       "        text-align: right;\n",
       "    }\n",
       "</style>\n",
       "<table border=\"1\" class=\"dataframe\">\n",
       "  <thead>\n",
       "    <tr style=\"text-align: right;\">\n",
       "      <th></th>\n",
       "      <th>Pregnancies</th>\n",
       "      <th>Glucose</th>\n",
       "      <th>BloodPressure</th>\n",
       "      <th>SkinThickness</th>\n",
       "      <th>Insulin</th>\n",
       "      <th>BMI</th>\n",
       "      <th>DiabetesPedigreeFunction</th>\n",
       "      <th>Age</th>\n",
       "      <th>Outcome</th>\n",
       "    </tr>\n",
       "  </thead>\n",
       "  <tbody>\n",
       "    <tr>\n",
       "      <th>0</th>\n",
       "      <td>6</td>\n",
       "      <td>148</td>\n",
       "      <td>72</td>\n",
       "      <td>35</td>\n",
       "      <td>0</td>\n",
       "      <td>33.6</td>\n",
       "      <td>0.627</td>\n",
       "      <td>50</td>\n",
       "      <td>1</td>\n",
       "    </tr>\n",
       "    <tr>\n",
       "      <th>1</th>\n",
       "      <td>1</td>\n",
       "      <td>85</td>\n",
       "      <td>66</td>\n",
       "      <td>29</td>\n",
       "      <td>0</td>\n",
       "      <td>26.6</td>\n",
       "      <td>0.351</td>\n",
       "      <td>31</td>\n",
       "      <td>0</td>\n",
       "    </tr>\n",
       "    <tr>\n",
       "      <th>2</th>\n",
       "      <td>8</td>\n",
       "      <td>183</td>\n",
       "      <td>64</td>\n",
       "      <td>0</td>\n",
       "      <td>0</td>\n",
       "      <td>23.3</td>\n",
       "      <td>0.672</td>\n",
       "      <td>32</td>\n",
       "      <td>1</td>\n",
       "    </tr>\n",
       "    <tr>\n",
       "      <th>3</th>\n",
       "      <td>1</td>\n",
       "      <td>89</td>\n",
       "      <td>66</td>\n",
       "      <td>23</td>\n",
       "      <td>94</td>\n",
       "      <td>28.1</td>\n",
       "      <td>0.167</td>\n",
       "      <td>21</td>\n",
       "      <td>0</td>\n",
       "    </tr>\n",
       "    <tr>\n",
       "      <th>4</th>\n",
       "      <td>0</td>\n",
       "      <td>137</td>\n",
       "      <td>40</td>\n",
       "      <td>35</td>\n",
       "      <td>168</td>\n",
       "      <td>43.1</td>\n",
       "      <td>2.288</td>\n",
       "      <td>33</td>\n",
       "      <td>1</td>\n",
       "    </tr>\n",
       "  </tbody>\n",
       "</table>\n",
       "</div>"
      ],
      "text/plain": [
       "   Pregnancies  Glucose  BloodPressure  SkinThickness  Insulin   BMI  \\\n",
       "0            6      148             72             35        0  33.6   \n",
       "1            1       85             66             29        0  26.6   \n",
       "2            8      183             64              0        0  23.3   \n",
       "3            1       89             66             23       94  28.1   \n",
       "4            0      137             40             35      168  43.1   \n",
       "\n",
       "   DiabetesPedigreeFunction  Age  Outcome  \n",
       "0                     0.627   50        1  \n",
       "1                     0.351   31        0  \n",
       "2                     0.672   32        1  \n",
       "3                     0.167   21        0  \n",
       "4                     2.288   33        1  "
      ]
     },
     "execution_count": 2,
     "metadata": {},
     "output_type": "execute_result"
    }
   ],
   "source": [
    "df = pd.read_csv(\"diabetes.csv\")\n",
    "df.head()"
   ]
  },
  {
   "cell_type": "code",
   "execution_count": 3,
   "metadata": {},
   "outputs": [
    {
     "data": {
      "text/plain": [
       "(768, 9)"
      ]
     },
     "execution_count": 3,
     "metadata": {},
     "output_type": "execute_result"
    }
   ],
   "source": [
    "df.shape"
   ]
  },
  {
   "cell_type": "markdown",
   "metadata": {},
   "source": [
    "## Define dependent and independent variable"
   ]
  },
  {
   "cell_type": "code",
   "execution_count": 4,
   "metadata": {},
   "outputs": [],
   "source": [
    "x = df.drop('Outcome', axis = 1)\n",
    "y = df[['Outcome']]"
   ]
  },
  {
   "cell_type": "markdown",
   "metadata": {},
   "source": [
    "## Train Test Split"
   ]
  },
  {
   "cell_type": "code",
   "execution_count": 5,
   "metadata": {},
   "outputs": [
    {
     "name": "stdout",
     "output_type": "stream",
     "text": [
      "x_train= (514, 8) \n",
      " y_train= (514, 1)\n"
     ]
    }
   ],
   "source": [
    "from sklearn.model_selection import train_test_split\n",
    "x_train, x_test, y_train, y_test = train_test_split(x, y, test_size=0.33, random_state=42)\n",
    "print(\"x_train=\",x_train.shape,'\\n',\"y_train=\",y_train.shape)"
   ]
  },
  {
   "cell_type": "markdown",
   "metadata": {},
   "source": [
    "## Model training"
   ]
  },
  {
   "cell_type": "code",
   "execution_count": 6,
   "metadata": {},
   "outputs": [
    {
     "name": "stderr",
     "output_type": "stream",
     "text": [
      "C:\\Users\\Rohan\\anaconda3\\lib\\site-packages\\sklearn\\utils\\validation.py:72: DataConversionWarning: A column-vector y was passed when a 1d array was expected. Please change the shape of y to (n_samples, ), for example using ravel().\n",
      "  return f(**kwargs)\n",
      "C:\\Users\\Rohan\\anaconda3\\lib\\site-packages\\sklearn\\linear_model\\_logistic.py:762: ConvergenceWarning: lbfgs failed to converge (status=1):\n",
      "STOP: TOTAL NO. of ITERATIONS REACHED LIMIT.\n",
      "\n",
      "Increase the number of iterations (max_iter) or scale the data as shown in:\n",
      "    https://scikit-learn.org/stable/modules/preprocessing.html\n",
      "Please also refer to the documentation for alternative solver options:\n",
      "    https://scikit-learn.org/stable/modules/linear_model.html#logistic-regression\n",
      "  n_iter_i = _check_optimize_result(\n"
     ]
    }
   ],
   "source": [
    "from sklearn.linear_model import LogisticRegression\n",
    "lr = LogisticRegression()\n",
    "model = lr.fit(x_train, y_train)\n",
    "y_pred = lr.predict(x_test)"
   ]
  },
  {
   "cell_type": "markdown",
   "metadata": {},
   "source": [
    "## Model Prediction"
   ]
  },
  {
   "cell_type": "code",
   "execution_count": 7,
   "metadata": {},
   "outputs": [
    {
     "name": "stdout",
     "output_type": "stream",
     "text": [
      "[0 0 0 0 1 0 0 1 1 1 0 1 0 0 0 0 0 0 1 1 0 0 0 0 1 1 0 0 0 0 1 1 1 1 1 1 1\n",
      " 0 0 1 0 1 1 0 0 1 1 0 0 1 0 1 1 0 0 0 1 0 0 1 1 0 0 0 0 1 0 1 0 1 1 0 0 0\n",
      " 0 1 0 0 0 0 1 0 0 0 0 1 1 0 0 0 0 0 0 1 1 1 0 0 1 0 1 0 1 1 1 0 0 1 0 0 0\n",
      " 0 0 1 0 0 1 0 0 1 0 0 0 0 0 0 0 1 1 1 1 1 0 0 1 0 0 1 1 0 0 0 0 0 0 0 0 0\n",
      " 0 1 0 0 0 0 0 0 0 1 1 0 1 1 0 0 0 1 0 0 1 1 1 0 0 1 1 0 0 0 0 0 1 1 0 1 1\n",
      " 0 0 0 1 0 0 0 1 0 0 0 0 0 0 1 0 0 0 0 1 0 0 0 1 1 0 0 0 0 1 0 1 0 0 1 1 0\n",
      " 0 0 0 1 0 0 0 0 0 0 0 1 0 0 0 0 0 1 0 0 1 0 0 0 1 0 0 0 0 0 1 0]\n"
     ]
    }
   ],
   "source": [
    "print(y_pred)"
   ]
  },
  {
   "cell_type": "code",
   "execution_count": null,
   "metadata": {},
   "outputs": [],
   "source": []
  },
  {
   "cell_type": "code",
   "execution_count": 8,
   "metadata": {},
   "outputs": [
    {
     "name": "stdout",
     "output_type": "stream",
     "text": [
      "74.80314960629921\n"
     ]
    }
   ],
   "source": [
    "from sklearn.metrics import accuracy_score\n",
    "print(accuracy_score(y_pred, y_test)*100)"
   ]
  },
  {
   "cell_type": "markdown",
   "metadata": {},
   "source": [
    "We will now pickle this model that would be used to compute predictions for new data points. There are several other methods also available to pickle the model like Joblib. Refer to the below code for pickling the model."
   ]
  },
  {
   "cell_type": "code",
   "execution_count": 9,
   "metadata": {},
   "outputs": [],
   "source": [
    "import pickle\n",
    "# diabetic_lr = pickle.dump(model, 'diabetic_lr.pickle')\n",
    "# save the model to disk\n",
    "filename = 'diabetic_lr.model'\n",
    "pickle.dump(model, open(filename, 'wb'))"
   ]
  },
  {
   "cell_type": "markdown",
   "metadata": {},
   "source": [
    "## How to Compute Predictions Using the Tkinter GUI in Real-Time?"
   ]
  },
  {
   "cell_type": "markdown",
   "metadata": {},
   "source": [
    "Since we are now done with pickling the file. Now we will create a GUI using Tkinter that will be used to capture new data points. Use the below code for the same. We will first define the library and then will make the GUI. "
   ]
  },
  {
   "cell_type": "markdown",
   "metadata": {},
   "source": [
    "We have first created a tkinter window and given the title as “Diabetic Predictions”. Now we will create the labels (features). Use the below code for the same. "
   ]
  },
  {
   "cell_type": "markdown",
   "metadata": {},
   "source": [
    "We have now created all the buttons that are mainly the features that will store the new data point values. When we have to compute prediction using any model we need a data frame on which we have to make the prediction. Once a user enters a different set of values we then have to create a data frame of it. Use the below code for the same. "
   ]
  },
  {
   "cell_type": "markdown",
   "metadata": {},
   "source": [
    "Now we will create a submit button. Once this button is clicked the above action of data frame creation is done. We will once again convert every value that is inputted by the user to numerics. Use the below code for the same. "
   ]
  },
  {
   "cell_type": "code",
   "execution_count": 10,
   "metadata": {},
   "outputs": [
    {
     "data": {
      "text/plain": [
       "''"
      ]
     },
     "execution_count": 10,
     "metadata": {},
     "output_type": "execute_result"
    }
   ],
   "source": [
    "import tkinter as tk\n",
    "from tkinter import *\n",
    "import pickle\n",
    "# diabetic_lr = pickle.dump(model, 'diabetic_lr.pickle')\n",
    "'''\n",
    "# save the model to disk\n",
    "filename = 'diabetic_lr.model'\n",
    "pickle.dump(model, open(f ilename, 'wb'))\n",
    "'''\n",
    "# load the model from disk\n",
    "model = pickle.load(open(filename, 'rb'))\n",
    "win = tk.Tk()\n",
    "win.geometry(\"300x300\")\n",
    "win.title('Diabetes Predictions')"
   ]
  },
  {
   "cell_type": "code",
   "execution_count": 11,
   "metadata": {},
   "outputs": [
    {
     "name": "stdout",
     "output_type": "stream",
     "text": [
      "Non-Diabetic\n",
      "Non-Diabetic\n",
      "Non-Diabetic\n",
      "Non-Diabetic\n"
     ]
    }
   ],
   "source": [
    "def predict():\n",
    "    DF = pd.DataFrame(columns=['Preg', 'Plas', 'Pres', 'skin', 'test', 'mass', 'pedi', 'age'], )\n",
    "    PREG = Preg_var.get()\n",
    "    DF.loc[0, 'Preg'] = PREG\n",
    "    PLAS = Plas_var.get()\n",
    "    DF.loc[0, 'Plas'] = PLAS\n",
    "    PRES = Pres_var.get()\n",
    "    DF.loc[0, 'Pres'] = PRES\n",
    "    SKIN = skin_var.get()\n",
    "    DF.loc[0, 'skin'] = SKIN\n",
    "    TEST = test_var.get()\n",
    "    DF.loc[0, 'test'] = TEST\n",
    "    MASS = mass_var.get()\n",
    "    DF.loc[0, 'mass'] = MASS\n",
    "    PEDI = pedi_var.get()\n",
    "    DF.loc[0, 'pedi'] = PEDI\n",
    "    AGE = age_var.get()\n",
    "    DF.loc[0, 'age'] = AGE\n",
    "\n",
    "    output = model.predict(DF)\n",
    "    if output == 1:\n",
    "        result = 'Diabetic'\n",
    "        predict_screen.insert(END, result)\n",
    "    else:\n",
    "        result = 'Non-Diabetic'\n",
    "        predict_screen.insert(END, result)\n",
    "\n",
    "    print(result)\n",
    "\n",
    "model = pickle.load(open('Diabetic_lr.model', 'rb'))\n",
    "\n",
    "win = tk.Tk()\n",
    "win.title('Diabetes Prediction')\n",
    "\n",
    "# Column 1\n",
    "Preg = tk.Label(win, text=\"Preg\")\n",
    "Preg.grid(row=0, column=0, sticky=tk.W)\n",
    "Preg_var = tk.DoubleVar()\n",
    "Preg_entrybox = tk.Entry(win, width=16, textvariable=Preg_var)\n",
    "Preg_entrybox.grid(row=0, column=2)\n",
    "# Column 2\n",
    "Plas = tk.Label(win, text=\"Plas\")\n",
    "Plas.grid(row=1, column=0, sticky=tk.W)\n",
    "Plas_var = tk.DoubleVar()\n",
    "Plas_entrybox = tk.Entry(win, width=16, textvariable=Plas_var)\n",
    "Plas_entrybox.grid(row=1, column=2)\n",
    "# Column 3\n",
    "Pres = tk.Label(win, text=\"Pres\")\n",
    "Pres.grid(row=2, column=0, sticky=tk.W)\n",
    "Pres_var = tk.DoubleVar()\n",
    "Pres_entrybox = tk.Entry(win, width=16, textvariable=Pres_var)\n",
    "Pres_entrybox.grid(row=2, column=2)\n",
    "# Column 4\n",
    "skin = tk.Label(win, text=\"skin\")\n",
    "skin.grid(row=3, column=0, sticky=tk.W)\n",
    "skin_var = tk.DoubleVar()\n",
    "skin_entrybox = tk.Entry(win, width=16, textvariable=skin_var)\n",
    "skin_entrybox.grid(row=3, column=2)\n",
    "# Column 5\n",
    "test = tk.Label(win, text=\"test\")\n",
    "test.grid(row=4, column=0, sticky=tk.W)\n",
    "test_var = tk.DoubleVar()\n",
    "test_entrybox = tk.Entry(win, width=16, textvariable=test_var)\n",
    "test_entrybox.grid(row=4, column=2)\n",
    "# Column 6\n",
    "mass = tk.Label(win, text=\"mass\")\n",
    "mass.grid(row=5, column=0, sticky=tk.W)\n",
    "mass_var = tk.DoubleVar()\n",
    "mass_entrybox = tk.Entry(win, width=16, textvariable=mass_var)\n",
    "mass_entrybox.grid(row=5, column=2)\n",
    "# Column 7\n",
    "pedi = tk.Label(win, text=\"pedi\")\n",
    "pedi.grid(row=6, column=0, sticky=tk.W)\n",
    "pedi_var = tk.DoubleVar()\n",
    "pedi_entrybox = tk.Entry(win, width=16, textvariable=pedi_var)\n",
    "pedi_entrybox.grid(row=6, column=2)\n",
    "# Column 8\n",
    "age = tk.Label(win, text=\"age\")\n",
    "age.grid(row=7, column=0, sticky=tk.W)\n",
    "age_var = tk.DoubleVar()\n",
    "age_entrybox = tk.Entry(win, width=16, textvariable=age_var)\n",
    "age_entrybox.grid(row=7, column=2)\n",
    "\n",
    "predict_button = tk.Button(win, text=\"Predict\", command=predict)\n",
    "predict_button.grid(row=9, column=0)\n",
    "\n",
    "predict_screen = tk.Text(win,height=10, width=20)\n",
    "predict_screen.grid(row=9, column=2)\n",
    "\n",
    "win.mainloop()"
   ]
  },
  {
   "cell_type": "code",
   "execution_count": null,
   "metadata": {},
   "outputs": [],
   "source": []
  }
 ],
 "metadata": {
  "kernelspec": {
   "display_name": "Python 3",
   "language": "python",
   "name": "python3"
  },
  "language_info": {
   "codemirror_mode": {
    "name": "ipython",
    "version": 3
   },
   "file_extension": ".py",
   "mimetype": "text/x-python",
   "name": "python",
   "nbconvert_exporter": "python",
   "pygments_lexer": "ipython3",
   "version": "3.8.5"
  }
 },
 "nbformat": 4,
 "nbformat_minor": 4
}
